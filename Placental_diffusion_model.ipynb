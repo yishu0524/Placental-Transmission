{
 "cells": [
  {
   "cell_type": "code",
   "execution_count": 3,
   "metadata": {},
   "outputs": [],
   "source": [
    "import numpy as np\n",
    "import matplotlib.pyplot as plt\n",
    "%matplotlib inline"
   ]
  },
  {
   "cell_type": "code",
   "execution_count": 4,
   "metadata": {},
   "outputs": [],
   "source": [
    "# Define pi as constant\n",
    "π = np.pi"
   ]
  },
  {
   "cell_type": "code",
   "execution_count": 5,
   "metadata": {},
   "outputs": [],
   "source": [
    "D = 0.0069 #diffusion\n",
    "l = 3\n",
    "nx = 500\n",
    "nt = 2800\n",
    "T = 280\n",
    "mu = 0.2\n",
    "a = 0 \n",
    "b = 0\n",
    "c = 0\n",
    "d = 6\n",
    "surface_area = 28858"
   ]
  },
  {
   "cell_type": "code",
   "execution_count": 6,
   "metadata": {},
   "outputs": [],
   "source": [
    "x = np.linspace(0,l,nx+1)\n",
    "t = np.linspace(0,T,nt+1)"
   ]
  },
  {
   "cell_type": "markdown",
   "metadata": {},
   "source": [
    "## Cleaned up code"
   ]
  },
  {
   "cell_type": "code",
   "execution_count": 7,
   "metadata": {},
   "outputs": [],
   "source": [
    "def solution_(x,t,l,a,b,c,d,D,mu):\n",
    "    a1 =       mu*a \n",
    "    b1 = 3*a + mu*b \n",
    "    c1 = 2*b + mu*c  \n",
    "    d1 = c   + mu*d\n",
    "    N = 1000\n",
    "    n = np.arange(1, N+1)\n",
    "    temp1 = np.zeros(N)\n",
    "    for i in n:\n",
    "        α = D*(i*π/l)**2 + mu\n",
    "        qn = (\n",
    "            1/α    * (a1*t**3    +   b1*t**2 +   c1*t + d1 * (1-np.exp(-α*t))) + \n",
    "            1/α**2 * (           - 3*a1*t**2 - 2*b1*t - c1 * (1-np.exp(-α*t))) +\n",
    "            1/α**3 * (                         6*a1*t + 2*b1*(1-np.exp(-α*t))) +\n",
    "            1/α**4 * (                                - 6*a1*(1-np.exp(-α*t)))\n",
    "        )\n",
    "        \n",
    "        temp1[i-1] = np.sin(i*π*x/l)*(-1)**i*2/(i*π) *(d*np.exp(-α*t)+qn)\n",
    "    V1 = temp1.sum()\n",
    "\n",
    "    S1 = (x/l)*(a*t**3 +  b*t**2 + c*t + d)\n",
    "\n",
    "    return S1+V1"
   ]
  },
  {
   "cell_type": "code",
   "execution_count": 8,
   "metadata": {},
   "outputs": [],
   "source": [
    "def virus_count(t,l,a,b,c,d,D,mu):\n",
    "    a1 =       mu*a \n",
    "    b1 = 3*a + mu*b \n",
    "    c1 = 2*b + mu*c  \n",
    "    d1 = c   + mu*d\n",
    "    N = 1000\n",
    "    n = np.arange(1, N+1)\n",
    "    temp1 = np.zeros(N)\n",
    "    for i in n:\n",
    "        α = D*(i*π/l)**2 + mu\n",
    "        qn = (\n",
    "            1/α    * ( a1*t**4/4 +  b1*t**3/3+   c1*t**2/2 + d1*t)+\n",
    "            1/α**2 * (-a1*t**3   -   b1*t**2 -   c1*t - d1 * (1-np.exp(-α*t))) + \n",
    "            1/α**3 * (           + 3*a1*t**2 + 2*b1*t + c1 * (1-np.exp(-α*t))) +\n",
    "            1/α**4 * (                       - 6*a1*t - 2*b1*(1-np.exp(-α*t))) +\n",
    "            1/α**5 * (                                + 6*a1*(1-np.exp(-α*t)))\n",
    "        )\n",
    "        \n",
    "        temp1[i-1] = (-1)**i*2/(l) *(d*(1-np.exp(-α*t))/α+qn) *D\n",
    "    V1 = temp1.sum()\n",
    "\n",
    "    S1 = D*(1/l)*(a*t**4/4 +  b*t**3/3 + c*t**2/2 + d*t)\n",
    "\n",
    "    return S1+V1"
   ]
  },
  {
   "cell_type": "code",
   "execution_count": 9,
   "metadata": {},
   "outputs": [
    {
     "data": {
      "text/plain": [
       "3.2981213879694913"
      ]
     },
     "execution_count": 9,
     "metadata": {},
     "output_type": "execute_result"
    }
   ],
   "source": [
    "virus_count(t[-1],l,a,b,c,d,D,mu)*28858"
   ]
  },
  {
   "cell_type": "code",
   "execution_count": 10,
   "metadata": {},
   "outputs": [],
   "source": [
    "TEST=np.logspace(-1.5,-0.3,20)\n",
    "RESULT=[]"
   ]
  },
  {
   "cell_type": "code",
   "execution_count": 11,
   "metadata": {},
   "outputs": [],
   "source": [
    "for i in TEST:\n",
    "    temp=virus_count(t[-1],l,a,b,c,d,D,i)\n",
    "    RESULT.append(temp*28858 )"
   ]
  },
  {
   "cell_type": "code",
   "execution_count": 12,
   "metadata": {
    "scrolled": true
   },
   "outputs": [
    {
     "data": {
      "text/plain": [
       "[<matplotlib.lines.Line2D at 0x234c8d87c88>]"
      ]
     },
     "execution_count": 12,
     "metadata": {},
     "output_type": "execute_result"
    },
    {
     "data": {
      "image/png": "[encoded data removed]",
      "text/plain": [
       "<Figure size 432x288 with 1 Axes>"
      ]
     },
     "metadata": {
      "needs_background": "light"
     },
     "output_type": "display_data"
    }
   ],
   "source": [
    "plt.plot(TEST,RESULT)"
   ]
  },
  {
   "cell_type": "code",
   "execution_count": 349,
   "metadata": {},
   "outputs": [
    {
     "data": {
      "text/plain": [
       "array([1.00000000e-05, 4.64158883e-05, 2.15443469e-04, 1.00000000e-03,\n",
       "       4.64158883e-03, 2.15443469e-02, 1.00000000e-01, 4.64158883e-01,\n",
       "       2.15443469e+00, 1.00000000e+01])"
      ]
     },
     "execution_count": 349,
     "metadata": {},
     "output_type": "execute_result"
    }
   ],
   "source": [
    "TEST"
   ]
  },
  {
   "cell_type": "code",
   "execution_count": 345,
   "metadata": {},
   "outputs": [
    {
     "data": {
      "text/plain": [
       "array([ 0.01      ,  0.02154435,  0.04641589,  0.1       ,  0.21544347,\n",
       "        0.46415888,  1.        ,  2.15443469,  4.64158883, 10.        ])"
      ]
     },
     "execution_count": 345,
     "metadata": {},
     "output_type": "execute_result"
    }
   ],
   "source": [
    "np.logspace(-2,1,10)"
   ]
  },
  {
   "cell_type": "code",
   "execution_count": 408,
   "metadata": {},
   "outputs": [
    {
     "data": {
      "text/plain": [
       "0.5011872336272722"
      ]
     },
     "execution_count": 408,
     "metadata": {},
     "output_type": "execute_result"
    }
   ],
   "source": [
    "10**(-0.3)"
   ]
  },
  {
   "cell_type": "code",
   "execution_count": null,
   "metadata": {},
   "outputs": [],
   "source": []
  }
 ],
 "metadata": {
  "kernelspec": {
   "display_name": "Python 3",
   "language": "python",
   "name": "python3"
  },
  "language_info": {
   "codemirror_mode": {
    "name": "ipython",
    "version": 3
   },
   "file_extension": ".py",
   "mimetype": "text/x-python",
   "name": "python",
   "nbconvert_exporter": "python",
   "pygments_lexer": "ipython3",
   "version": "3.6.10"
  }
 },
 "nbformat": 4,
 "nbformat_minor": 4
}
