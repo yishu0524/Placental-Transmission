{
 "cells": [
  {
   "cell_type": "code",
   "execution_count": 8,
   "metadata": {},
   "outputs": [],
   "source": [
    "import numpy as np\n",
    "import math\n",
    "from matplotlib import pyplot as plt\n",
    "import random\n",
    "import pandas as pd"
   ]
  },
  {
   "cell_type": "code",
   "execution_count": 9,
   "metadata": {},
   "outputs": [],
   "source": [
    "import seaborn as sns"
   ]
  },
  {
   "cell_type": "code",
   "execution_count": 34,
   "metadata": {},
   "outputs": [],
   "source": [
    "immune_supressed=pd.read_csv('immunesupressed_monkeyflow.csv')"
   ]
  },
  {
   "cell_type": "code",
   "execution_count": 190,
   "metadata": {},
   "outputs": [],
   "source": [
    "healthy=pd.read_csv('healthy populationflow.csv')"
   ]
  },
  {
   "cell_type": "code",
   "execution_count": 25,
   "metadata": {},
   "outputs": [],
   "source": [
    "cumulative=[]\n",
    "for i in range(len(Simulation['time'])):\n",
    "    cumulative.append(np.trapz(Simulation['healthy'][:i],Simulation['time'][:i]))"
   ]
  },
  {
   "cell_type": "code",
   "execution_count": 41,
   "metadata": {},
   "outputs": [],
   "source": [
    "def cumulative_prob(flux,time,prob):\n",
    "    cumulative=[]\n",
    "    for i in range(len(flux)):\n",
    "        cumulative.append(np.trapz(flux[:i],time[:i]))\n",
    "    return 1-np.power(1-0.00046,cumulative)"
   ]
  },
  {
   "cell_type": "code",
   "execution_count": 30,
   "metadata": {},
   "outputs": [],
   "source": [
    "def sample_from_exponential_dist(a):\n",
    "    # random sampling from exponential distribution with mean a\n",
    "    # we will use inverse sampling \n",
    "    u = random.random()\n",
    "    x = (1/a) * math.log(1/(1-u))\n",
    "    return x\n"
   ]
  },
  {
   "cell_type": "code",
   "execution_count": 31,
   "metadata": {},
   "outputs": [],
   "source": [
    "def inhomogeneousPoisson(Lambda, T):\n",
    "    '''\n",
    "    First, we aim to generate an array arrival_times[] representing the arrival time from an homogeneous Poisson Process with \n",
    "    fixed rate lambda_max up to time T; meanwhile, we also generate samples from uniform distribution on [0,1] which will decide\n",
    "    whether these arrival times from homogeneous Poisson Process will be accepted as sample of the inhomogeneous Poisson Process\n",
    "    '''\n",
    "    lambda_max = max(Lambda[i][1] for i in range(len(Lambda)))\n",
    "    \n",
    "    arrival_times = [0]\n",
    "    unif_samples = []\n",
    "    while arrival_times[-1] <= T:\n",
    "        arrival_times.append(arrival_times[-1]+sample_from_exponential_dist(lambda_max))\n",
    "        unif_samples.append(random.random())\n",
    "        \n",
    "    # take out the first dummy time 0 and the last time which exceeds maximum time T     \n",
    "    arrival_times = arrival_times[1:-1]\n",
    "    \n",
    "    # check if we accept each arrival time in arrival_times[]\n",
    "    accepted_arrival_times = []\n",
    "    for i in range(len(arrival_times)):\n",
    "        # find the rate lambda[t] at the proposed arrival time\n",
    "        for j in range(len(Lambda)):\n",
    "            if Lambda[j][0] > arrival_times[i]:\n",
    "                break\n",
    "        acceptance_probability = Lambda[j][1]/lambda_max\n",
    "        if acceptance_probability > unif_samples[i]:\n",
    "            accepted_arrival_times.append(arrival_times[i])\n",
    "    \n",
    "    return accepted_arrival_times"
   ]
  },
  {
   "cell_type": "code",
   "execution_count": 217,
   "metadata": {},
   "outputs": [
    {
     "data": {
      "text/html": [
       "<div>\n",
       "<style scoped>\n",
       "    .dataframe tbody tr th:only-of-type {\n",
       "        vertical-align: middle;\n",
       "    }\n",
       "\n",
       "    .dataframe tbody tr th {\n",
       "        vertical-align: top;\n",
       "    }\n",
       "\n",
       "    .dataframe thead th {\n",
       "        text-align: right;\n",
       "    }\n",
       "</style>\n",
       "<table border=\"1\" class=\"dataframe\">\n",
       "  <thead>\n",
       "    <tr style=\"text-align: right;\">\n",
       "      <th></th>\n",
       "      <th>days</th>\n",
       "      <th>pop</th>\n",
       "      <th>immunesupressed_flow</th>\n",
       "      <th>HD79</th>\n",
       "      <th>HD79_flow</th>\n",
       "      <th>145-97</th>\n",
       "      <th>145-97_flow</th>\n",
       "      <th>396-09</th>\n",
       "      <th>396-09_flow</th>\n",
       "      <th>274-98</th>\n",
       "      <th>274-98_flow</th>\n",
       "      <th>174-97</th>\n",
       "      <th>174-97_flow</th>\n",
       "      <th>GM04</th>\n",
       "      <th>GM04_flow</th>\n",
       "    </tr>\n",
       "  </thead>\n",
       "  <tbody>\n",
       "    <tr>\n",
       "      <th>0</th>\n",
       "      <td>0.000000</td>\n",
       "      <td>0.001000</td>\n",
       "      <td>0.000000e+00</td>\n",
       "      <td>0.001000</td>\n",
       "      <td>0.000000e+00</td>\n",
       "      <td>0.001000</td>\n",
       "      <td>0.000000e+00</td>\n",
       "      <td>1.000000e-03</td>\n",
       "      <td>0.000000e+00</td>\n",
       "      <td>0.001000</td>\n",
       "      <td>0.000000e+00</td>\n",
       "      <td>0.001000</td>\n",
       "      <td>0.000000e+00</td>\n",
       "      <td>0.001000</td>\n",
       "      <td>0.000000e+00</td>\n",
       "    </tr>\n",
       "    <tr>\n",
       "      <th>1</th>\n",
       "      <td>0.166166</td>\n",
       "      <td>0.000976</td>\n",
       "      <td>2.760000e-12</td>\n",
       "      <td>0.000975</td>\n",
       "      <td>1.260000e-16</td>\n",
       "      <td>0.000978</td>\n",
       "      <td>1.640000e-13</td>\n",
       "      <td>9.912800e-04</td>\n",
       "      <td>1.160000e-20</td>\n",
       "      <td>0.000939</td>\n",
       "      <td>2.500000e-12</td>\n",
       "      <td>0.000976</td>\n",
       "      <td>2.760000e-12</td>\n",
       "      <td>0.000976</td>\n",
       "      <td>2.760000e-12</td>\n",
       "    </tr>\n",
       "    <tr>\n",
       "      <th>2</th>\n",
       "      <td>0.332332</td>\n",
       "      <td>0.001004</td>\n",
       "      <td>4.360000e-10</td>\n",
       "      <td>0.000978</td>\n",
       "      <td>3.160000e-13</td>\n",
       "      <td>0.001015</td>\n",
       "      <td>9.010000e-09</td>\n",
       "      <td>1.037374e-03</td>\n",
       "      <td>4.620000e-15</td>\n",
       "      <td>0.000904</td>\n",
       "      <td>2.830000e-09</td>\n",
       "      <td>0.001004</td>\n",
       "      <td>4.360000e-10</td>\n",
       "      <td>0.001004</td>\n",
       "      <td>4.360000e-10</td>\n",
       "    </tr>\n",
       "    <tr>\n",
       "      <th>3</th>\n",
       "      <td>0.498498</td>\n",
       "      <td>0.001079</td>\n",
       "      <td>2.760000e-07</td>\n",
       "      <td>0.001008</td>\n",
       "      <td>7.260000e-11</td>\n",
       "      <td>0.001109</td>\n",
       "      <td>7.050000e-06</td>\n",
       "      <td>1.137402e-03</td>\n",
       "      <td>4.880000e-11</td>\n",
       "      <td>0.000891</td>\n",
       "      <td>2.040000e-07</td>\n",
       "      <td>0.001079</td>\n",
       "      <td>2.760000e-07</td>\n",
       "      <td>0.001079</td>\n",
       "      <td>2.760000e-07</td>\n",
       "    </tr>\n",
       "    <tr>\n",
       "      <th>4</th>\n",
       "      <td>0.664665</td>\n",
       "      <td>0.001204</td>\n",
       "      <td>1.170000e-06</td>\n",
       "      <td>0.001062</td>\n",
       "      <td>1.280000e-08</td>\n",
       "      <td>0.001261</td>\n",
       "      <td>2.857280e-04</td>\n",
       "      <td>1.293498e-03</td>\n",
       "      <td>1.690000e-08</td>\n",
       "      <td>0.000899</td>\n",
       "      <td>9.470000e-07</td>\n",
       "      <td>0.001204</td>\n",
       "      <td>1.170000e-06</td>\n",
       "      <td>0.001204</td>\n",
       "      <td>1.170000e-06</td>\n",
       "    </tr>\n",
       "    <tr>\n",
       "      <th>...</th>\n",
       "      <td>...</td>\n",
       "      <td>...</td>\n",
       "      <td>...</td>\n",
       "      <td>...</td>\n",
       "      <td>...</td>\n",
       "      <td>...</td>\n",
       "      <td>...</td>\n",
       "      <td>...</td>\n",
       "      <td>...</td>\n",
       "      <td>...</td>\n",
       "      <td>...</td>\n",
       "      <td>...</td>\n",
       "      <td>...</td>\n",
       "      <td>...</td>\n",
       "      <td>...</td>\n",
       "    </tr>\n",
       "    <tr>\n",
       "      <th>995</th>\n",
       "      <td>165.335335</td>\n",
       "      <td>0.000000</td>\n",
       "      <td>1.815923e-03</td>\n",
       "      <td>0.000000</td>\n",
       "      <td>6.750000e-09</td>\n",
       "      <td>0.005666</td>\n",
       "      <td>2.110000e-13</td>\n",
       "      <td>2.260000e-07</td>\n",
       "      <td>1.030000e-08</td>\n",
       "      <td>0.000000</td>\n",
       "      <td>-1.930000e-05</td>\n",
       "      <td>0.000000</td>\n",
       "      <td>-4.880000e-10</td>\n",
       "      <td>0.000000</td>\n",
       "      <td>-1.150000e-06</td>\n",
       "    </tr>\n",
       "    <tr>\n",
       "      <th>996</th>\n",
       "      <td>165.501501</td>\n",
       "      <td>0.000000</td>\n",
       "      <td>1.577967e-03</td>\n",
       "      <td>0.000000</td>\n",
       "      <td>6.090000e-09</td>\n",
       "      <td>0.005656</td>\n",
       "      <td>2.100000e-13</td>\n",
       "      <td>2.210000e-07</td>\n",
       "      <td>8.940000e-09</td>\n",
       "      <td>0.000000</td>\n",
       "      <td>-1.820000e-05</td>\n",
       "      <td>0.000000</td>\n",
       "      <td>-3.460000e-10</td>\n",
       "      <td>0.000000</td>\n",
       "      <td>-5.760000e-09</td>\n",
       "    </tr>\n",
       "    <tr>\n",
       "      <th>997</th>\n",
       "      <td>165.667668</td>\n",
       "      <td>0.000000</td>\n",
       "      <td>1.339769e-03</td>\n",
       "      <td>0.000000</td>\n",
       "      <td>5.440000e-09</td>\n",
       "      <td>0.005646</td>\n",
       "      <td>2.090000e-13</td>\n",
       "      <td>2.170000e-07</td>\n",
       "      <td>7.600000e-09</td>\n",
       "      <td>0.000000</td>\n",
       "      <td>-1.700000e-05</td>\n",
       "      <td>0.000000</td>\n",
       "      <td>-2.040000e-10</td>\n",
       "      <td>0.000000</td>\n",
       "      <td>1.140000e-06</td>\n",
       "    </tr>\n",
       "    <tr>\n",
       "      <th>998</th>\n",
       "      <td>165.833834</td>\n",
       "      <td>0.000000</td>\n",
       "      <td>1.101330e-03</td>\n",
       "      <td>0.000000</td>\n",
       "      <td>4.780000e-09</td>\n",
       "      <td>0.005636</td>\n",
       "      <td>2.080000e-13</td>\n",
       "      <td>2.130000e-07</td>\n",
       "      <td>6.250000e-09</td>\n",
       "      <td>0.000000</td>\n",
       "      <td>-1.570000e-05</td>\n",
       "      <td>0.000000</td>\n",
       "      <td>-6.210000e-11</td>\n",
       "      <td>0.000000</td>\n",
       "      <td>2.290000e-06</td>\n",
       "    </tr>\n",
       "    <tr>\n",
       "      <th>999</th>\n",
       "      <td>166.000000</td>\n",
       "      <td>0.000000</td>\n",
       "      <td>8.626510e-04</td>\n",
       "      <td>0.000000</td>\n",
       "      <td>4.130000e-09</td>\n",
       "      <td>0.005627</td>\n",
       "      <td>2.070000e-13</td>\n",
       "      <td>2.090000e-07</td>\n",
       "      <td>4.910000e-09</td>\n",
       "      <td>0.000000</td>\n",
       "      <td>-1.440000e-05</td>\n",
       "      <td>0.000000</td>\n",
       "      <td>8.010000e-11</td>\n",
       "      <td>0.000000</td>\n",
       "      <td>3.440000e-06</td>\n",
       "    </tr>\n",
       "  </tbody>\n",
       "</table>\n",
       "<p>1000 rows × 15 columns</p>\n",
       "</div>"
      ],
      "text/plain": [
       "           days       pop  immunesupressed_flow      HD79     HD79_flow  \\\n",
       "0      0.000000  0.001000          0.000000e+00  0.001000  0.000000e+00   \n",
       "1      0.166166  0.000976          2.760000e-12  0.000975  1.260000e-16   \n",
       "2      0.332332  0.001004          4.360000e-10  0.000978  3.160000e-13   \n",
       "3      0.498498  0.001079          2.760000e-07  0.001008  7.260000e-11   \n",
       "4      0.664665  0.001204          1.170000e-06  0.001062  1.280000e-08   \n",
       "..          ...       ...                   ...       ...           ...   \n",
       "995  165.335335  0.000000          1.815923e-03  0.000000  6.750000e-09   \n",
       "996  165.501501  0.000000          1.577967e-03  0.000000  6.090000e-09   \n",
       "997  165.667668  0.000000          1.339769e-03  0.000000  5.440000e-09   \n",
       "998  165.833834  0.000000          1.101330e-03  0.000000  4.780000e-09   \n",
       "999  166.000000  0.000000          8.626510e-04  0.000000  4.130000e-09   \n",
       "\n",
       "       145-97   145-97_flow        396-09   396-09_flow    274-98  \\\n",
       "0    0.001000  0.000000e+00  1.000000e-03  0.000000e+00  0.001000   \n",
       "1    0.000978  1.640000e-13  9.912800e-04  1.160000e-20  0.000939   \n",
       "2    0.001015  9.010000e-09  1.037374e-03  4.620000e-15  0.000904   \n",
       "3    0.001109  7.050000e-06  1.137402e-03  4.880000e-11  0.000891   \n",
       "4    0.001261  2.857280e-04  1.293498e-03  1.690000e-08  0.000899   \n",
       "..        ...           ...           ...           ...       ...   \n",
       "995  0.005666  2.110000e-13  2.260000e-07  1.030000e-08  0.000000   \n",
       "996  0.005656  2.100000e-13  2.210000e-07  8.940000e-09  0.000000   \n",
       "997  0.005646  2.090000e-13  2.170000e-07  7.600000e-09  0.000000   \n",
       "998  0.005636  2.080000e-13  2.130000e-07  6.250000e-09  0.000000   \n",
       "999  0.005627  2.070000e-13  2.090000e-07  4.910000e-09  0.000000   \n",
       "\n",
       "      274-98_flow    174-97   174-97_flow      GM04     GM04_flow  \n",
       "0    0.000000e+00  0.001000  0.000000e+00  0.001000  0.000000e+00  \n",
       "1    2.500000e-12  0.000976  2.760000e-12  0.000976  2.760000e-12  \n",
       "2    2.830000e-09  0.001004  4.360000e-10  0.001004  4.360000e-10  \n",
       "3    2.040000e-07  0.001079  2.760000e-07  0.001079  2.760000e-07  \n",
       "4    9.470000e-07  0.001204  1.170000e-06  0.001204  1.170000e-06  \n",
       "..            ...       ...           ...       ...           ...  \n",
       "995 -1.930000e-05  0.000000 -4.880000e-10  0.000000 -1.150000e-06  \n",
       "996 -1.820000e-05  0.000000 -3.460000e-10  0.000000 -5.760000e-09  \n",
       "997 -1.700000e-05  0.000000 -2.040000e-10  0.000000  1.140000e-06  \n",
       "998 -1.570000e-05  0.000000 -6.210000e-11  0.000000  2.290000e-06  \n",
       "999 -1.440000e-05  0.000000  8.010000e-11  0.000000  3.440000e-06  \n",
       "\n",
       "[1000 rows x 15 columns]"
      ]
     },
     "execution_count": 217,
     "metadata": {},
     "output_type": "execute_result"
    }
   ],
   "source": [
    "immune_supressed"
   ]
  },
  {
   "cell_type": "code",
   "execution_count": 192,
   "metadata": {},
   "outputs": [],
   "source": [
    "# reshape toy data \n",
    "Lambda2 = list(zip(healthy['days'],healthy['pop_flow']))"
   ]
  },
  {
   "cell_type": "code",
   "execution_count": 193,
   "metadata": {},
   "outputs": [],
   "source": [
    "arrival_times2 = inhomogeneousPoisson(Lambda2, T)"
   ]
  },
  {
   "cell_type": "code",
   "execution_count": 114,
   "metadata": {},
   "outputs": [
    {
     "data": {
      "text/plain": [
       "130.25073286319494"
      ]
     },
     "execution_count": 114,
     "metadata": {},
     "output_type": "execute_result"
    }
   ],
   "source": [
    "max(arrival_times)-min(arrival_times)"
   ]
  },
  {
   "cell_type": "code",
   "execution_count": 198,
   "metadata": {},
   "outputs": [],
   "source": [
    "d2 = {'arrival time': arrival_times2}\n",
    "df2 = pd.DataFrame(data=d2)"
   ]
  },
  {
   "cell_type": "code",
   "execution_count": 199,
   "metadata": {},
   "outputs": [],
   "source": [
    "df2['day']=(df2['arrival time'].astype(int)+1)"
   ]
  },
  {
   "cell_type": "code",
   "execution_count": 220,
   "metadata": {},
   "outputs": [],
   "source": [
    "def data_transform(ts,ys_ind,num):\n",
    "    ys_ind  = np.log10(np.maximum(np.ones(len(ys_ind)),1000*ys_ind))\n",
    "    for (i,t) in enumerate(ts):\n",
    "        if t>num:\n",
    "            ys_ind[i]=max(1,ys_ind[i])\n",
    "    return ys_ind"
   ]
  },
  {
   "cell_type": "code",
   "execution_count": 237,
   "metadata": {},
   "outputs": [
    {
     "data": {
      "text/plain": [
       "Text(100, 200, 'Totoal virus: 6407')"
      ]
     },
     "execution_count": 237,
     "metadata": {},
     "output_type": "execute_result"
    },
    {
     "data": {
      "image/png": "[encoded data removed]",
      "text/plain": [
       "<Figure size 864x504 with 3 Axes>"
      ]
     },
     "metadata": {
      "needs_background": "light"
     },
     "output_type": "display_data"
    }
   ],
   "source": [
    "fig, ax = plt.subplots(3,1,sharex=True,figsize=(12,7))\n",
    "ax[0].plot(healthy['days'],data_transform(healthy['days'],healthy['pop'],10),label=\"Immune competent population fit\",color='midnightblue')\n",
    "ax[0].plot(immune_supressed['days'],data_transform(immune_supressed['days'],immune_supressed['pop'],10),label=\"CD4+ depl population fit\",color='darkred')\n",
    "ax[0].legend(loc=1,fontsize=14)\n",
    "ax[0].set_ylabel('Log10 CMV\\n DNA Viral Load',fontsize=14)\n",
    "\n",
    "sns.countplot(data=df2,x='day',order=list(range(0, 167)),color='pink',label='Number of Viruses per day',dodge=False,ax=ax[1])\n",
    "ax[1].plot(healthy['days'],healthy['pop_flow'],label=\"Viral Flux (immune competent mother)\",color='midnightblue')\n",
    "ax[1].set(xticklabels=[0,20,40,60,80,100,120,140,160])\n",
    "ax[1].set(xticks=[0,20,40,60,80,100,120,140,160])\n",
    "ax[1].set_xlabel(\"\",fontsize=15)\n",
    "ax[1].legend(loc=1,fontsize=14)\n",
    "ax[1].set_ylim(ymin=0)\n",
    "ax[1].set_ylabel(\"CMV Viral Count\",fontsize=15)\n",
    "ax[1].set_title('Immune competent Rhesus Macaques CMV viral flux',fontsize=14)\n",
    "ax[1].text(100,10,'Totoal virus: ' + str(len(df2)),fontsize=14)\n",
    "sns.countplot(data=df,x='day',order=list(range(0, 167)),color='pink',label='Number of Viruses per day',dodge=False,ax=ax[2])\n",
    "ax[2].plot(immune_supressed['days'],immune_supressed['immunesupressed_flow'],label=\"Viral Flux (CD4+ Depl mother)\",color='darkred')\n",
    "\n",
    "ax[2].set(xticklabels=[0,20,40,60,80,100,120,140,160])\n",
    "ax[2].set(xticks=[0,20,40,60,80,100,120,140,160])\n",
    "ax[2].legend(loc=1,fontsize=14)\n",
    "ax[2].set_xlabel(\"Time (day)\",fontsize=15)\n",
    "ax[2].set_ylabel(\"CMV Viral Count\",fontsize=15)\n",
    "ax[2].set_title('CD4+ Depl Rhesus Macaques CMV viral flux',fontsize=14)\n",
    "ax[2].text(100,200,'Totoal virus: ' + str(len(df)),fontsize=14)"
   ]
  },
  {
   "cell_type": "markdown",
   "metadata": {},
   "source": [
    "## Plot: Single Experiment"
   ]
  },
  {
   "cell_type": "markdown",
   "metadata": {},
   "source": [
    "Red cross denotes the time when arrival happens. Blue curve is the given intensity function $\\lambda(t)$"
   ]
  },
  {
   "cell_type": "code",
   "execution_count": 164,
   "metadata": {},
   "outputs": [
    {
     "data": {
      "image/png": "[encoded data removed]",
      "text/plain": [
       "<Figure size 864x216 with 1 Axes>"
      ]
     },
     "metadata": {
      "needs_background": "light"
     },
     "output_type": "display_data"
    }
   ],
   "source": [
    "fig, ax = plt.subplots(figsize=(12,3))\n",
    "T=166;\n",
    "ax.plot(immune_supressed['days'],immune_supressed['immunesupressed_flow'],label=\"Arrival Rate\")\n",
    "#Lambda = list(zip(immune_supressed['days'],immune_supressed['immunesupressed_flow']))\n",
    "#arrival_times = inhomogeneousPoisson(Lambda, T)\n",
    "#ax.scatter(arrival_times, [0.0001]*len(arrival_times), marker='X',c='r',label=\"Arrival time\")\n",
    "ax.hist(df['day'], bins=max(df['day']), label='Number of Viruses per day')\n",
    "plt.xlabel(\"Time (day)\",fontsize=15)\n",
    "plt.ylabel(\"Viral Count\",fontsize=15)\n",
    "plt.legend(fontsize=12,loc=1)\n",
    "plt.xlim(xmin=0,xmax=T)\n",
    "plt.show()\n",
    "\n"
   ]
  },
  {
   "cell_type": "code",
   "execution_count": 170,
   "metadata": {},
   "outputs": [
    {
     "data": {
      "text/plain": [
       "[0,\n",
       " 1,\n",
       " 2,\n",
       " 3,\n",
       " 4,\n",
       " 5,\n",
       " 6,\n",
       " 7,\n",
       " 8,\n",
       " 9,\n",
       " 10,\n",
       " 11,\n",
       " 12,\n",
       " 13,\n",
       " 14,\n",
       " 15,\n",
       " 16,\n",
       " 17,\n",
       " 18,\n",
       " 19,\n",
       " 20,\n",
       " 21,\n",
       " 22,\n",
       " 23,\n",
       " 24,\n",
       " 25,\n",
       " 26,\n",
       " 27,\n",
       " 28,\n",
       " 29,\n",
       " 30,\n",
       " 31,\n",
       " 32,\n",
       " 33,\n",
       " 34,\n",
       " 35,\n",
       " 36,\n",
       " 37,\n",
       " 38,\n",
       " 39,\n",
       " 40,\n",
       " 41,\n",
       " 42,\n",
       " 43,\n",
       " 44,\n",
       " 45,\n",
       " 46,\n",
       " 47,\n",
       " 48,\n",
       " 49,\n",
       " 50,\n",
       " 51,\n",
       " 52,\n",
       " 53,\n",
       " 54,\n",
       " 55,\n",
       " 56,\n",
       " 57,\n",
       " 58,\n",
       " 59,\n",
       " 60,\n",
       " 61,\n",
       " 62,\n",
       " 63,\n",
       " 64,\n",
       " 65,\n",
       " 66,\n",
       " 67,\n",
       " 68,\n",
       " 69,\n",
       " 70,\n",
       " 71,\n",
       " 72,\n",
       " 73,\n",
       " 74,\n",
       " 75,\n",
       " 76,\n",
       " 77,\n",
       " 78,\n",
       " 79,\n",
       " 80,\n",
       " 81,\n",
       " 82,\n",
       " 83,\n",
       " 84,\n",
       " 85,\n",
       " 86,\n",
       " 87,\n",
       " 88,\n",
       " 89,\n",
       " 90,\n",
       " 91,\n",
       " 92,\n",
       " 93,\n",
       " 94,\n",
       " 95,\n",
       " 96,\n",
       " 97,\n",
       " 98,\n",
       " 99,\n",
       " 100,\n",
       " 101,\n",
       " 102,\n",
       " 103,\n",
       " 104,\n",
       " 105,\n",
       " 106,\n",
       " 107,\n",
       " 108,\n",
       " 109,\n",
       " 110,\n",
       " 111,\n",
       " 112,\n",
       " 113,\n",
       " 114,\n",
       " 115,\n",
       " 116,\n",
       " 117,\n",
       " 118,\n",
       " 119,\n",
       " 120,\n",
       " 121,\n",
       " 122,\n",
       " 123,\n",
       " 124,\n",
       " 125,\n",
       " 126,\n",
       " 127,\n",
       " 128,\n",
       " 129,\n",
       " 130,\n",
       " 131,\n",
       " 132,\n",
       " 133,\n",
       " 134,\n",
       " 135,\n",
       " 136,\n",
       " 137,\n",
       " 138,\n",
       " 139,\n",
       " 140,\n",
       " 141,\n",
       " 142,\n",
       " 143,\n",
       " 144,\n",
       " 145,\n",
       " 146,\n",
       " 147,\n",
       " 148,\n",
       " 149,\n",
       " 150,\n",
       " 151,\n",
       " 152,\n",
       " 153,\n",
       " 154,\n",
       " 155,\n",
       " 156,\n",
       " 157,\n",
       " 158,\n",
       " 159,\n",
       " 160,\n",
       " 161,\n",
       " 162,\n",
       " 163,\n",
       " 164,\n",
       " 165,\n",
       " 166]"
      ]
     },
     "execution_count": 170,
     "metadata": {},
     "output_type": "execute_result"
    }
   ],
   "source": [
    "list(range(0, 167))"
   ]
  },
  {
   "cell_type": "code",
   "execution_count": 65,
   "metadata": {},
   "outputs": [],
   "source": [
    "class CMVsystem:\n",
    "\n",
    "    def __init__(self, lam, mu, beta, alpha, delta,S0,p,c, S, L, I, V, ratio,virus_entry):\n",
    "        self.lam = lam\n",
    "        self.mu = mu\n",
    "        self.beta = beta\n",
    "        self.alpha = alpha\n",
    "        self.delta=delta\n",
    "        self.p = p\n",
    "        self.c = c\n",
    "        self.S0= S0\n",
    "        self.t = 0.\n",
    "        self.S = S\n",
    "        self.L = L\n",
    "        self.I = I\n",
    "        self.V = V\n",
    "        self.virus_entry=virus_entry\n",
    "        self.ratio=ratio\n",
    "        self.trajectory = np.array([[self.S, self.L, self.I,self.V]],dtype=float)\n",
    "        self.times = None\n",
    "            \n",
    "#Define an initializer (__init__(self,beta,gamma,S,I,R)) which accepts model parameters beta and gamma, \n",
    "#and initial numbers of hosts in each of the S,I and R compartments.\n",
    "    def reset(self, S, I, L, V,t=0.):\n",
    "        self.t = t\n",
    "        self.S = S\n",
    "        self.L = L\n",
    "        self.I = I\n",
    "        self.V = V\n",
    "        self.trajectory = np.array([[self.S, self.L, self.I, self.V]],dtype=float)"
   ]
  },
  {
   "cell_type": "code",
   "execution_count": 66,
   "metadata": {},
   "outputs": [],
   "source": [
    "class StochasticCMVsystem (CMVsystem):\n",
    "\n",
    "    \"\"\"Define a specialized subclass of the general SIRsystem for modeling SIR dynamics as a stochastic, continuous\n",
    "    time process, using the Gillespie method of continuous time Monte Carlo\"\"\"\n",
    "\n",
    "    def step(self):\n",
    "        \"\"\"Implement one step of Gillespie's Direct Method based on current reaction rates: identify a reaction to fire\n",
    "        next, as well as a time at which it will fire, and execute that reaction (similar to as was described in the\n",
    "        StochasticCells exercise).\"\"\"\n",
    "        \n",
    "        #if no virus inside the system, wait till the first virus enters the system\n",
    "        if self.V + self.I + self.L == 0:\n",
    "            if self.virus_entry:\n",
    "                self.t = virus_entry.pop()\n",
    "                self.V = 1\n",
    "            else:\n",
    "                return None, self.t\n",
    "        \n",
    "            \n",
    "        \n",
    "        \n",
    "        s = np.random.uniform(0,1)\n",
    "        transition = None\n",
    "        #S_birth = self.lam\n",
    "        #S_death = self.mu*self.S\n",
    "        inf_rate = self.beta*self.V*self.S\n",
    "        L_to_I = self.alpha*self.L\n",
    "        #L_death = self.mu*self.L\n",
    "        I_death = self.delta*self.I\n",
    "        V_production = self.p*self.I\n",
    "        V_death = self.c*self.V\n",
    "        \n",
    "        \n",
    "        #S is kept constant\n",
    "        #CASE1:with latent cells\n",
    "        \n",
    "        if s > self.ratio:\n",
    "            rates=[inf_rate,L_to_I,I_death,V_production,V_death]\n",
    "            total_rate=np.sum(rates)\n",
    "            if total_rate == 0.:\n",
    "                dt=0\n",
    "            else:\n",
    "                dt = np.random.exponential(1./total_rate, 1)[0]\n",
    "            \n",
    "            if self.virus_entry and self.t+dt > self.virus_entry[-1]:\n",
    "                #print(self.t , self.virus_entry[-1])\n",
    "                #recation does not happen, virus entry happens(case 1)\n",
    "                self.V += 1\n",
    "                self.t = self.virus_entry.pop()\n",
    "                transition = 0\n",
    "                \n",
    "            else:\n",
    "                #reaction happens\n",
    "                if total_rate == 0.:\n",
    "                    return transition, self.t\n",
    "                if self.V+self.I+self.L == 0:\n",
    "                    return transition, self.t\n",
    "                if self.V+self.I+self.L == 500:\n",
    "                    return transition, self.t\n",
    "                ranno = np.random.random()\n",
    "                if ranno < np.sum(rates[0:1])/total_rate:\n",
    "                    self.L += 1   #Latent cell production\n",
    "                    transition = 1\n",
    "                elif ranno < np.sum(rates[0:2])/total_rate:\n",
    "                    self.I+=1     #Latent cell become infected\n",
    "                    self.L-=1\n",
    "                    transition = 2\n",
    "                elif ranno < np.sum(rates[0:4])/total_rate:\n",
    "                    self.I-=1      #Infected Cell death\n",
    "                    transition = 3\n",
    "                elif ranno < np.sum(rates[0:5])/total_rate:\n",
    "                    self.V+=1      #virus creation\n",
    "                    transition = 4\n",
    "                elif ranno < np.sum(rates[0:6])/total_rate:\n",
    "                    self.V-=1     #virus death\n",
    "                    transition = 5\n",
    "                    \n",
    "                self.t += dt\n",
    "                \n",
    "\n",
    "        if s <= self.ratio:\n",
    "            \n",
    "            rates=[inf_rate,I_death,V_production,V_death]\n",
    "            total_rate=np.sum(rates)\n",
    "            if total_rate == 0.:\n",
    "                dt=0\n",
    "            else:\n",
    "                dt = np.random.exponential(1./total_rate, 1)[0]\n",
    "                \n",
    "\n",
    "            if self.virus_entry and self.t+dt > self.virus_entry[-1]:\n",
    "                #recation does not happen, virus entry happens\n",
    "                self.V += 1\n",
    "                self.t = self.virus_entry.pop()\n",
    "                transition = 0\n",
    "                \n",
    "            else:\n",
    "                #reaction happens\n",
    "\n",
    "                if total_rate == 0.:\n",
    "                    return transition, self.t\n",
    "                if self.V + self.I==0:\n",
    "                    return transition, self.t\n",
    "                if self.V + self.I==500:\n",
    "                    return transition, self.t\n",
    "\n",
    "                ranno = np.random.random()\n",
    "\n",
    "                if ranno < np.sum(rates[0:1])/total_rate:\n",
    "                    self.I += 1\n",
    "                    transition = 1\n",
    "\n",
    "                elif ranno < np.sum(rates[0:2])/total_rate:\n",
    "                    self.I -= 1\n",
    "                    transition = 2\n",
    "                elif ranno < np.sum(rates[0:3])/total_rate:\n",
    "                    self.V+=1\n",
    "                    transition = 3\n",
    "                elif ranno < np.sum(rates[0:4])/total_rate:\n",
    "                    self.V-=1\n",
    "                    transition = 4\n",
    "                self.t += dt\n",
    "                \n",
    "                \n",
    "                \n",
    "        #dt = np.random.exponential(1./total_rate, 1)[0]\n",
    "        #why 1/the hazard function? different from the textbook\n",
    "        #print(transition, self.t)\n",
    "        return transition, self.t\n",
    "\n",
    "            \n",
    "            \n",
    "    def run(self, T = None, make_traj=True):\n",
    "        \"\"\"Run the Gillespie algorithm for stochastic simulation from time 0 to at least time T, starting with the initial\n",
    "        values stored in the S,I,R state variables; story the result in self.trajectory if make_traj argument is\n",
    "        set to True\"\"\"\n",
    "\n",
    "        if T is None:\n",
    "            T = sys.maxsize\n",
    "        self.times = [0.]\n",
    "\n",
    "        transition = 1\n",
    "        while self.t < T:\n",
    "            transition, t = self.step()\n",
    "            if transition == None:\n",
    "                return self.t\n",
    "            if make_traj:\n",
    "                self.trajectory = np.concatenate((self.trajectory, [[self.S,self.L,self.I,self.V]]), axis=0)\n",
    "            self.times.append(self.t)\n",
    "        return self.t"
   ]
  },
  {
   "cell_type": "code",
   "execution_count": 104,
   "metadata": {},
   "outputs": [],
   "source": [
    "arrival_times=[1]"
   ]
  },
  {
   "cell_type": "code",
   "execution_count": 105,
   "metadata": {},
   "outputs": [],
   "source": [
    "count=0;"
   ]
  },
  {
   "cell_type": "code",
   "execution_count": 106,
   "metadata": {},
   "outputs": [],
   "source": [
    "for _ in range(100):\n",
    "    virus_entry=arrival_times[::-1]\n",
    "\n",
    "    mu=1/4.5; beta=3e-12; alpha=1; delta=0.77; S0=4e8;lam=mu*S0 ;p=1600;c=2; S=S0; L=0; I=0; V=0;ratio=0.5;\n",
    "    M1 = StochasticCMVsystem(lam, mu, beta, alpha, delta, S0, p, c, S, L, I, V,ratio,virus_entry);\n",
    "\n",
    "    M1.run(166)\n",
    "    if M1.trajectory[-1,3]>500:\n",
    "        count+=1\n",
    "\n",
    "    \n",
    "\n"
   ]
  },
  {
   "cell_type": "code",
   "execution_count": 107,
   "metadata": {},
   "outputs": [
    {
     "data": {
      "text/plain": [
       "0.0"
      ]
     },
     "execution_count": 107,
     "metadata": {},
     "output_type": "execute_result"
    }
   ],
   "source": [
    "count/100000*100"
   ]
  },
  {
   "cell_type": "code",
   "execution_count": 166,
   "metadata": {},
   "outputs": [
    {
     "data": {
      "text/plain": [
       "<matplotlib.legend.Legend at 0x20649850a58>"
      ]
     },
     "execution_count": 166,
     "metadata": {},
     "output_type": "execute_result"
    },
    {
     "data": {
      "image/png": "[encoded data removed]",
      "text/plain": [
       "<Figure size 720x576 with 1 Axes>"
      ]
     },
     "metadata": {
      "needs_background": "light"
     },
     "output_type": "display_data"
    }
   ],
   "source": [
    "#plt.plot(M1.times[:-1], M1.trajectory[:-1,0], 'b-', label='S')\n",
    "fig, ax = plt.subplots(figsize=(10,8))\n",
    "plt.plot(M1.times[:-1], M1.trajectory[:-1,3], 'y-', label='Viral load')\n",
    "\n",
    "#plt.plot(M1.times[:-1], M1.trajectory[:-1,1], 'r-', label='Latent cells')\n",
    "#plt.plot(M1.times[:-1], M1.trajectory[:-1,2], 'g-', label='Infected cells')\n",
    "#plt.yscale(\"symlog\")\n",
    "plt.xlabel(\"Time\",fontsize=15)\n",
    "plt.ylabel(\"Viral Load\",fontsize=15)\n",
    "plt.legend(loc='upper right',fontsize=15)"
   ]
  },
  {
   "cell_type": "code",
   "execution_count": 167,
   "metadata": {},
   "outputs": [
    {
     "data": {
      "text/plain": [
       "Text(0, 0.5, 'Cell Count')"
      ]
     },
     "execution_count": 167,
     "metadata": {},
     "output_type": "execute_result"
    },
    {
     "data": {
      "image/png": "[encoded data removed]",
      "text/plain": [
       "<Figure size 720x576 with 1 Axes>"
      ]
     },
     "metadata": {
      "needs_background": "light"
     },
     "output_type": "display_data"
    }
   ],
   "source": [
    "fig, ax = plt.subplots(figsize=(10,8))\n",
    "plt.plot(M1.times[:-1], M1.trajectory[:-1,1], 'r-', label='Latent cells')\n",
    "plt.plot(M1.times[:-1], M1.trajectory[:-1,2], 'g-', label='Infected cells')\n",
    "plt.xlabel('time',fontsize=15)\n",
    "plt.ylabel('Cell count',fontsize=15)\n",
    "plt.legend(loc='upper right')\n",
    "\n",
    "\n",
    "#plt.yscale(\"symlog\")\n",
    "plt.xlabel(\"Time\",fontsize=15)\n",
    "plt.ylabel(\"Cell Count\",fontsize=15)"
   ]
  },
  {
   "cell_type": "code",
   "execution_count": 160,
   "metadata": {},
   "outputs": [
    {
     "data": {
      "text/plain": [
       "Text(0, 0.5, 'Virus Count')"
      ]
     },
     "execution_count": 160,
     "metadata": {},
     "output_type": "execute_result"
    },
    {
     "data": {
      "image/png": "[encoded data removed]",
      "text/plain": [
       "<Figure size 432x288 with 1 Axes>"
      ]
     },
     "metadata": {
      "needs_background": "light"
     },
     "output_type": "display_data"
    }
   ],
   "source": [
    "plt.plot(M1.times[:-1], M1.trajectory[:-1,3], 'y-', label='V')\n",
    "plt.legend(loc='upper right')\n",
    "plt.xlabel('time',fontsize=15)\n",
    "plt.ylabel('Virus Count',fontsize=15)"
   ]
  },
  {
   "cell_type": "code",
   "execution_count": null,
   "metadata": {},
   "outputs": [],
   "source": []
  }
 ],
 "metadata": {
  "kernelspec": {
   "display_name": "Python 3",
   "language": "python",
   "name": "python3"
  },
  "language_info": {
   "codemirror_mode": {
    "name": "ipython",
    "version": 3
   },
   "file_extension": ".py",
   "mimetype": "text/x-python",
   "name": "python",
   "nbconvert_exporter": "python",
   "pygments_lexer": "ipython3",
   "version": "3.8.3"
  }
 },
 "nbformat": 4,
 "nbformat_minor": 2
}
