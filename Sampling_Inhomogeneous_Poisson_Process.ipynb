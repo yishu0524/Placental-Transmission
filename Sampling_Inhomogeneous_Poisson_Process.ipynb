{
 "cells": [
  {
   "cell_type": "code",
   "execution_count": 2,
   "metadata": {},
   "outputs": [],
   "source": [
    "import numpy as np\n",
    "import math\n",
    "from matplotlib import pyplot as plt\n",
    "import random\n",
    "import pandas as pd"
   ]
  },
  {
   "cell_type": "markdown",
   "metadata": {},
   "source": [
    "The goal of this function is to implement Lewis' Thinning Algorithm -- generation of arrival events from an inhomogeneous Poisson Process. Suppose the time-varying rate is given by an intensity function $\\lambda(t)$ which can be input into our function through an array of tumples Lambda = [(lambda1, t1), (lambda2, t2),...], representing the discrete values $\\lambda(t_i)$ for intensity evluated at times $t_1,t_2,...$. T denotes the maximum time we consider for the Poinsson Process. "
   ]
  },
  {
   "cell_type": "code",
   "execution_count": 3,
   "metadata": {},
   "outputs": [],
   "source": [
    "pde_result=pd.read_excel(r'C:\\Users\\pc\\Documents\\school\\Placental-Transmission-main\\Placental-Transmission-main\\result.xlsx')"
   ]
  },
  {
   "cell_type": "code",
   "execution_count": 46,
   "metadata": {},
   "outputs": [],
   "source": [
    "pde=pd.read_csv(r'C:\\Users\\pc\\Desktop\\0.csv')"
   ]
  },
  {
   "cell_type": "code",
   "execution_count": 47,
   "metadata": {},
   "outputs": [
    {
     "data": {
      "text/html": [
       "<div>\n",
       "<style scoped>\n",
       "    .dataframe tbody tr th:only-of-type {\n",
       "        vertical-align: middle;\n",
       "    }\n",
       "\n",
       "    .dataframe tbody tr th {\n",
       "        vertical-align: top;\n",
       "    }\n",
       "\n",
       "    .dataframe thead th {\n",
       "        text-align: right;\n",
       "    }\n",
       "</style>\n",
       "<table border=\"1\" class=\"dataframe\">\n",
       "  <thead>\n",
       "    <tr style=\"text-align: right;\">\n",
       "      <th></th>\n",
       "      <th>0</th>\n",
       "      <th>0.1</th>\n",
       "      <th>0.2</th>\n",
       "      <th>0.3</th>\n",
       "    </tr>\n",
       "  </thead>\n",
       "  <tbody>\n",
       "    <tr>\n",
       "      <th>0</th>\n",
       "      <td>0.28</td>\n",
       "      <td>2.830000e-64</td>\n",
       "      <td>1.350000e-62</td>\n",
       "      <td>4.360000e-68</td>\n",
       "    </tr>\n",
       "    <tr>\n",
       "      <th>1</th>\n",
       "      <td>0.56</td>\n",
       "      <td>6.060000e-45</td>\n",
       "      <td>4.430000e-50</td>\n",
       "      <td>1.190000e-48</td>\n",
       "    </tr>\n",
       "    <tr>\n",
       "      <th>2</th>\n",
       "      <td>0.84</td>\n",
       "      <td>2.460000e-35</td>\n",
       "      <td>9.470000e-40</td>\n",
       "      <td>3.040000e-34</td>\n",
       "    </tr>\n",
       "    <tr>\n",
       "      <th>3</th>\n",
       "      <td>1.12</td>\n",
       "      <td>8.090000e-31</td>\n",
       "      <td>5.430000e-29</td>\n",
       "      <td>8.970000e-31</td>\n",
       "    </tr>\n",
       "    <tr>\n",
       "      <th>4</th>\n",
       "      <td>1.40</td>\n",
       "      <td>8.870000e-28</td>\n",
       "      <td>6.970000e-24</td>\n",
       "      <td>2.480000e-27</td>\n",
       "    </tr>\n",
       "    <tr>\n",
       "      <th>...</th>\n",
       "      <td>...</td>\n",
       "      <td>...</td>\n",
       "      <td>...</td>\n",
       "      <td>...</td>\n",
       "    </tr>\n",
       "    <tr>\n",
       "      <th>994</th>\n",
       "      <td>278.60</td>\n",
       "      <td>2.848900e-01</td>\n",
       "      <td>4.720300e+00</td>\n",
       "      <td>2.948900e+01</td>\n",
       "    </tr>\n",
       "    <tr>\n",
       "      <th>995</th>\n",
       "      <td>278.88</td>\n",
       "      <td>2.849900e-01</td>\n",
       "      <td>4.720100e+00</td>\n",
       "      <td>2.948900e+01</td>\n",
       "    </tr>\n",
       "    <tr>\n",
       "      <th>996</th>\n",
       "      <td>279.16</td>\n",
       "      <td>2.850900e-01</td>\n",
       "      <td>4.719900e+00</td>\n",
       "      <td>2.948900e+01</td>\n",
       "    </tr>\n",
       "    <tr>\n",
       "      <th>997</th>\n",
       "      <td>279.44</td>\n",
       "      <td>2.851900e-01</td>\n",
       "      <td>4.719600e+00</td>\n",
       "      <td>2.948900e+01</td>\n",
       "    </tr>\n",
       "    <tr>\n",
       "      <th>998</th>\n",
       "      <td>279.72</td>\n",
       "      <td>2.852900e-01</td>\n",
       "      <td>4.719400e+00</td>\n",
       "      <td>2.948900e+01</td>\n",
       "    </tr>\n",
       "  </tbody>\n",
       "</table>\n",
       "<p>999 rows × 4 columns</p>\n",
       "</div>"
      ],
      "text/plain": [
       "          0           0.1           0.2           0.3\n",
       "0      0.28  2.830000e-64  1.350000e-62  4.360000e-68\n",
       "1      0.56  6.060000e-45  4.430000e-50  1.190000e-48\n",
       "2      0.84  2.460000e-35  9.470000e-40  3.040000e-34\n",
       "3      1.12  8.090000e-31  5.430000e-29  8.970000e-31\n",
       "4      1.40  8.870000e-28  6.970000e-24  2.480000e-27\n",
       "..      ...           ...           ...           ...\n",
       "994  278.60  2.848900e-01  4.720300e+00  2.948900e+01\n",
       "995  278.88  2.849900e-01  4.720100e+00  2.948900e+01\n",
       "996  279.16  2.850900e-01  4.719900e+00  2.948900e+01\n",
       "997  279.44  2.851900e-01  4.719600e+00  2.948900e+01\n",
       "998  279.72  2.852900e-01  4.719400e+00  2.948900e+01\n",
       "\n",
       "[999 rows x 4 columns]"
      ]
     },
     "execution_count": 47,
     "metadata": {},
     "output_type": "execute_result"
    }
   ],
   "source": [
    "pde"
   ]
  },
  {
   "cell_type": "code",
   "execution_count": 120,
   "metadata": {},
   "outputs": [
    {
     "data": {
      "image/png": "[encoded data removed]",
      "text/plain": [
       "<Figure size 864x432 with 1 Axes>"
      ]
     },
     "metadata": {
      "needs_background": "light"
     },
     "output_type": "display_data"
    }
   ],
   "source": [
    "plt.figure(figsize=(12,6))\n",
    "plt.plot(pde['0'],[2.852900e-01]*len(pde['0']) ,'-', label=\"ϵS = 0\")\n",
    "plt.plot(pde['0'],[4.719400e+00]*len(pde['0']),'--', label=\"ϵS = 0.4\")\n",
    "plt.plot(pde['0'],[2.948900e+01]*len(pde['0']),'-.', label=\"ϵS = 0.7\")\n",
    "#plt.yscale('symlog')\n",
    "plt.xlabel('Time',fontsize=15)\n",
    "plt.ylabel('Viral flux on the infant side',fontsize=15)\n",
    "plt.xlim(xmin=0,xmax=270)\n",
    "plt.legend(fontsize=15,loc=1)\n",
    "plt.rc('axes', labelsize=15)\n",
    "plt.ylim(ymax=40)\n",
    "plt.show()"
   ]
  },
  {
   "cell_type": "code",
   "execution_count": 146,
   "metadata": {},
   "outputs": [],
   "source": [
    "# reshape toy data \n",
    "Lambda = list(zip(pde['0'],pde['0.1']))"
   ]
  },
  {
   "cell_type": "code",
   "execution_count": 147,
   "metadata": {},
   "outputs": [],
   "source": [
    "def sample_from_exponential_dist(a):\n",
    "    # random sampling from exponential distribution with mean a\n",
    "    # we will use inverse sampling \n",
    "    u = random.random()\n",
    "    x = (1/a) * math.log(1/(1-u))\n",
    "    return x\n"
   ]
  },
  {
   "cell_type": "code",
   "execution_count": 148,
   "metadata": {},
   "outputs": [],
   "source": [
    "def inhomogeneousPoisson(Lambda, T):\n",
    "    '''\n",
    "    First, we aim to generate an array arrival_times[] representing the arrival time from an homogeneous Poisson Process with \n",
    "    fixed rate lambda_max up to time T; meanwhile, we also generate samples from uniform distribution on [0,1] which will decide\n",
    "    whether these arrival times from homogeneous Poisson Process will be accepted as sample of the inhomogeneous Poisson Process\n",
    "    '''\n",
    "    lambda_max = max(Lambda[i][1] for i in range(len(Lambda)))\n",
    "    \n",
    "    arrival_times = [0]\n",
    "    unif_samples = []\n",
    "    while arrival_times[-1] <= T:\n",
    "        arrival_times.append(arrival_times[-1]+sample_from_exponential_dist(lambda_max))\n",
    "        unif_samples.append(random.random())\n",
    "        \n",
    "    # take out the first dummy time 0 and the last time which exceeds maximum time T     \n",
    "    arrival_times = arrival_times[1:-1]\n",
    "    \n",
    "    # check if we accept each arrival time in arrival_times[]\n",
    "    accepted_arrival_times = []\n",
    "    for i in range(len(arrival_times)):\n",
    "        # find the rate lambda[t] at the proposed arrival time\n",
    "        for j in range(len(Lambda)):\n",
    "            if Lambda[j][0] > arrival_times[i]:\n",
    "                break\n",
    "        acceptance_probability = Lambda[j][1]/lambda_max\n",
    "        if acceptance_probability > unif_samples[i]:\n",
    "            accepted_arrival_times.append(arrival_times[i])\n",
    "    \n",
    "    return accepted_arrival_times"
   ]
  },
  {
   "cell_type": "code",
   "execution_count": 149,
   "metadata": {},
   "outputs": [
    {
     "data": {
      "text/html": [
       "<div>\n",
       "<style scoped>\n",
       "    .dataframe tbody tr th:only-of-type {\n",
       "        vertical-align: middle;\n",
       "    }\n",
       "\n",
       "    .dataframe tbody tr th {\n",
       "        vertical-align: top;\n",
       "    }\n",
       "\n",
       "    .dataframe thead th {\n",
       "        text-align: right;\n",
       "    }\n",
       "</style>\n",
       "<table border=\"1\" class=\"dataframe\">\n",
       "  <thead>\n",
       "    <tr style=\"text-align: right;\">\n",
       "      <th></th>\n",
       "      <th>time</th>\n",
       "      <th>rate</th>\n",
       "    </tr>\n",
       "  </thead>\n",
       "  <tbody>\n",
       "    <tr>\n",
       "      <th>0</th>\n",
       "      <td>0.000000</td>\n",
       "      <td>0.000000e+00</td>\n",
       "    </tr>\n",
       "    <tr>\n",
       "      <th>1</th>\n",
       "      <td>0.280280</td>\n",
       "      <td>3.002448e-71</td>\n",
       "    </tr>\n",
       "    <tr>\n",
       "      <th>2</th>\n",
       "      <td>0.560561</td>\n",
       "      <td>2.771159e-41</td>\n",
       "    </tr>\n",
       "    <tr>\n",
       "      <th>3</th>\n",
       "      <td>0.840841</td>\n",
       "      <td>1.082412e-37</td>\n",
       "    </tr>\n",
       "    <tr>\n",
       "      <th>4</th>\n",
       "      <td>1.121121</td>\n",
       "      <td>2.197778e-33</td>\n",
       "    </tr>\n",
       "    <tr>\n",
       "      <th>...</th>\n",
       "      <td>...</td>\n",
       "      <td>...</td>\n",
       "    </tr>\n",
       "    <tr>\n",
       "      <th>995</th>\n",
       "      <td>278.878879</td>\n",
       "      <td>1.546991e+00</td>\n",
       "    </tr>\n",
       "    <tr>\n",
       "      <th>996</th>\n",
       "      <td>279.159159</td>\n",
       "      <td>1.547087e+00</td>\n",
       "    </tr>\n",
       "    <tr>\n",
       "      <th>997</th>\n",
       "      <td>279.439439</td>\n",
       "      <td>1.547185e+00</td>\n",
       "    </tr>\n",
       "    <tr>\n",
       "      <th>998</th>\n",
       "      <td>279.719720</td>\n",
       "      <td>1.547285e+00</td>\n",
       "    </tr>\n",
       "    <tr>\n",
       "      <th>999</th>\n",
       "      <td>280.000000</td>\n",
       "      <td>1.547388e+00</td>\n",
       "    </tr>\n",
       "  </tbody>\n",
       "</table>\n",
       "<p>1000 rows × 2 columns</p>\n",
       "</div>"
      ],
      "text/plain": [
       "           time          rate\n",
       "0      0.000000  0.000000e+00\n",
       "1      0.280280  3.002448e-71\n",
       "2      0.560561  2.771159e-41\n",
       "3      0.840841  1.082412e-37\n",
       "4      1.121121  2.197778e-33\n",
       "..          ...           ...\n",
       "995  278.878879  1.546991e+00\n",
       "996  279.159159  1.547087e+00\n",
       "997  279.439439  1.547185e+00\n",
       "998  279.719720  1.547285e+00\n",
       "999  280.000000  1.547388e+00\n",
       "\n",
       "[1000 rows x 2 columns]"
      ]
     },
     "execution_count": 149,
     "metadata": {},
     "output_type": "execute_result"
    }
   ],
   "source": [
    "pde_result"
   ]
  },
  {
   "cell_type": "markdown",
   "metadata": {},
   "source": [
    "## Plot: Single Experiment"
   ]
  },
  {
   "cell_type": "markdown",
   "metadata": {},
   "source": [
    "Red cross denotes the time when arrival happens. Blue curve is the given intensity function $\\lambda(t)$"
   ]
  },
  {
   "cell_type": "code",
   "execution_count": 150,
   "metadata": {},
   "outputs": [
    {
     "data": {
      "image/png": "[encoded data removed]",
      "text/plain": [
       "<Figure size 1080x216 with 1 Axes>"
      ]
     },
     "metadata": {
      "needs_background": "light"
     },
     "output_type": "display_data"
    }
   ],
   "source": [
    "fig, ax = plt.subplots(figsize=(15,3))\n",
    "\n",
    "ax.plot(pde['0'],pde['0.1'],label=\"Arrival Rate\")\n",
    "arrival_times = inhomogeneousPoisson(Lambda, 280)\n",
    "#ax.scatter(arrival_times, [0.0001]*len(arrival_times), marker='X',c='r',label=\"Arrival time\")\n",
    "ax.hist(arrival_times, bins=280, label='Number of Viruses per day')\n",
    "plt.xlabel(\"Time (day)\",fontsize=12)\n",
    "plt.ylabel(\"Arrival Rate\",fontsize=12)\n",
    "plt.legend(fontsize=12,loc=1)\n",
    "plt.xlim(xmin=0,xmax=270)\n",
    "plt.show()\n",
    "\n"
   ]
  },
  {
   "cell_type": "code",
   "execution_count": 151,
   "metadata": {},
   "outputs": [],
   "source": [
    "arrival_times = inhomogeneousPoisson(Lambda, 280)"
   ]
  },
  {
   "cell_type": "code",
   "execution_count": 152,
   "metadata": {},
   "outputs": [
    {
     "data": {
      "text/plain": [
       "299"
      ]
     },
     "execution_count": 152,
     "metadata": {},
     "output_type": "execute_result"
    }
   ],
   "source": [
    "len(arrival_times)"
   ]
  },
  {
   "cell_type": "code",
   "execution_count": 153,
   "metadata": {},
   "outputs": [],
   "source": [
    "class CMVsystem:\n",
    "\n",
    "    def __init__(self, lam, mu, beta, alpha, delta,S0,p,c, S, L, I, V, ratio,virus_entry):\n",
    "        self.lam = lam\n",
    "        self.mu = mu\n",
    "        self.beta = beta\n",
    "        self.alpha = alpha\n",
    "        self.delta=delta\n",
    "        self.p = p\n",
    "        self.c = c\n",
    "        self.S0= S0\n",
    "        self.t = 0.\n",
    "        self.S = S\n",
    "        self.L = L\n",
    "        self.I = I\n",
    "        self.V = V\n",
    "        self.virus_entry=virus_entry\n",
    "        self.ratio=ratio\n",
    "        self.trajectory = np.array([[self.S, self.L, self.I,self.V]],dtype=float)\n",
    "        self.times = None\n",
    "            \n",
    "#Define an initializer (__init__(self,beta,gamma,S,I,R)) which accepts model parameters beta and gamma, \n",
    "#and initial numbers of hosts in each of the S,I and R compartments.\n",
    "    def reset(self, S, I, L, V,t=0.):\n",
    "        self.t = t\n",
    "        self.S = S\n",
    "        self.L = L\n",
    "        self.I = I\n",
    "        self.V = V\n",
    "        self.trajectory = np.array([[self.S, self.L, self.I, self.V]],dtype=float)"
   ]
  },
  {
   "cell_type": "code",
   "execution_count": 154,
   "metadata": {},
   "outputs": [],
   "source": [
    "class StochasticCMVsystem (CMVsystem):\n",
    "\n",
    "    \"\"\"Define a specialized subclass of the general SIRsystem for modeling SIR dynamics as a stochastic, continuous\n",
    "    time process, using the Gillespie method of continuous time Monte Carlo\"\"\"\n",
    "\n",
    "    def step(self):\n",
    "        \"\"\"Implement one step of Gillespie's Direct Method based on current reaction rates: identify a reaction to fire\n",
    "        next, as well as a time at which it will fire, and execute that reaction (similar to as was described in the\n",
    "        StochasticCells exercise).\"\"\"\n",
    "        \n",
    "        #if no virus inside the system, wait till the first virus enters the system\n",
    "        if self.V + self.I + self.L == 0:\n",
    "            if self.virus_entry:\n",
    "                self.t = virus_entry.pop()\n",
    "                self.V = 1\n",
    "            else:\n",
    "                return None, self.t\n",
    "        \n",
    "            \n",
    "        \n",
    "        \n",
    "        s = np.random.uniform(0,1)\n",
    "        transition = None\n",
    "        S_birth = self.lam\n",
    "        S_death = self.mu*self.S\n",
    "        inf_rate = self.beta*self.V*self.S/self.S0\n",
    "        L_to_I = self.alpha*self.L\n",
    "        #L_death = self.mu*self.L\n",
    "        I_death = self.delta*self.I\n",
    "        V_production = self.p*self.I\n",
    "        V_death = self.c*self.V\n",
    "        \n",
    "        \n",
    "        #S is kept constant\n",
    "        #CASE1:with latent cells\n",
    "        \n",
    "        if s > self.ratio:\n",
    "            rates=[inf_rate,L_to_I,I_death,V_production,V_death]\n",
    "            total_rate=np.sum(rates)\n",
    "            if total_rate == 0.:\n",
    "                dt=0\n",
    "            else:\n",
    "                dt = np.random.exponential(1./total_rate, 1)[0]\n",
    "            \n",
    "            if self.virus_entry and self.t+dt > self.virus_entry[-1]:\n",
    "                #print(self.t , self.virus_entry[-1])\n",
    "                #recation does not happen, virus entry happens(case 1)\n",
    "                self.V += 1\n",
    "                self.t = self.virus_entry.pop()\n",
    "                transition = 0\n",
    "                \n",
    "            else:\n",
    "                #reaction happens\n",
    "                if total_rate == 0.:\n",
    "                    return transition, self.t\n",
    "                if self.V+self.I+self.L == 0:\n",
    "                    return transition, self.t\n",
    "                if self.V+self.I+self.L == 1000:\n",
    "                    return transition, self.t\n",
    "                ranno = np.random.random()\n",
    "                if ranno < np.sum(rates[0:1])/total_rate:\n",
    "                    self.L += 1   #Latent cell production\n",
    "                    transition = 1\n",
    "                elif ranno < np.sum(rates[0:2])/total_rate:\n",
    "                    self.I+=1     #Latent cell become infected\n",
    "                    self.L-=1\n",
    "                    transition = 2\n",
    "                elif ranno < np.sum(rates[0:4])/total_rate:\n",
    "                    self.I-=1      #Infected Cell death\n",
    "                    transition = 3\n",
    "                elif ranno < np.sum(rates[0:5])/total_rate:\n",
    "                    self.V+=1      #virus creation\n",
    "                    transition = 4\n",
    "                elif ranno < np.sum(rates[0:6])/total_rate:\n",
    "                    self.V-=1     #virus death\n",
    "                    transition = 5\n",
    "                    \n",
    "                self.t += dt\n",
    "                \n",
    "\n",
    "        if s <= self.ratio:\n",
    "            \n",
    "            rates=[inf_rate,I_death,V_production,V_death]\n",
    "            total_rate=np.sum(rates)\n",
    "            if total_rate == 0.:\n",
    "                dt=0\n",
    "            else:\n",
    "                dt = np.random.exponential(1./total_rate, 1)[0]\n",
    "                \n",
    "\n",
    "            if self.virus_entry and self.t+dt > self.virus_entry[-1]:\n",
    "                #recation does not happen, virus entry happens\n",
    "                self.V += 1\n",
    "                self.t = self.virus_entry.pop()\n",
    "                transition = 0\n",
    "                \n",
    "            else:\n",
    "                #reaction happens\n",
    "\n",
    "                if total_rate == 0.:\n",
    "                    return transition, self.t\n",
    "                if self.V + self.I==0:\n",
    "                    return transition, self.t\n",
    "                if self.V + self.I==1000:\n",
    "                    return transition, self.t\n",
    "\n",
    "                ranno = np.random.random()\n",
    "\n",
    "                if ranno < np.sum(rates[0:1])/total_rate:\n",
    "                    self.I += 1\n",
    "                    transition = 1\n",
    "\n",
    "                elif ranno < np.sum(rates[0:2])/total_rate:\n",
    "                    self.I -= 1\n",
    "                    transition = 2\n",
    "                elif ranno < np.sum(rates[0:3])/total_rate:\n",
    "                    self.V+=1\n",
    "                    transition = 3\n",
    "                elif ranno < np.sum(rates[0:4])/total_rate:\n",
    "                    self.V-=1\n",
    "                    transition = 4\n",
    "                self.t += dt\n",
    "                \n",
    "                \n",
    "                \n",
    "        #dt = np.random.exponential(1./total_rate, 1)[0]\n",
    "        #why 1/the hazard function? different from the textbook\n",
    "        #print(transition, self.t)\n",
    "        return transition, self.t\n",
    "\n",
    "            \n",
    "            \n",
    "    def run(self, T = None, make_traj=True):\n",
    "        \"\"\"Run the Gillespie algorithm for stochastic simulation from time 0 to at least time T, starting with the initial\n",
    "        values stored in the S,I,R state variables; story the result in self.trajectory if make_traj argument is\n",
    "        set to True\"\"\"\n",
    "\n",
    "        if T is None:\n",
    "            T = sys.maxsize\n",
    "        self.times = [0.]\n",
    "\n",
    "        transition = 1\n",
    "        while self.t < T:\n",
    "            transition, t = self.step()\n",
    "            if transition == None:\n",
    "                return self.t\n",
    "            if make_traj:\n",
    "                self.trajectory = np.concatenate((self.trajectory, [[self.S,self.L,self.I,self.V]]), axis=0)\n",
    "            self.times.append(self.t)\n",
    "        return self.t"
   ]
  },
  {
   "cell_type": "code",
   "execution_count": 155,
   "metadata": {},
   "outputs": [],
   "source": [
    "count=0;"
   ]
  },
  {
   "cell_type": "code",
   "execution_count": 164,
   "metadata": {},
   "outputs": [],
   "source": [
    "for _ in range(100):\n",
    "    virus_entry=arrival_times[::-1]\n",
    "\n",
    "    mu=1/4.5; beta=0.0012; alpha=1; delta=0.77; S0=400;lam=mu*S0 ;p=1600;c=1.5; S=S0; L=0; I=0; V=0;ratio=0.5;\n",
    "    M1 = StochasticCMVsystem(lam, mu, beta, alpha, delta, S0, p, c, S, L, I, V,ratio,virus_entry);\n",
    "\n",
    "    M1.run(280)\n",
    "    if M1.trajectory[-1,3]>1000:\n",
    "        count+=1\n",
    "\n",
    "    \n",
    "\n"
   ]
  },
  {
   "cell_type": "code",
   "execution_count": 165,
   "metadata": {},
   "outputs": [
    {
     "data": {
      "text/plain": [
       "0"
      ]
     },
     "execution_count": 165,
     "metadata": {},
     "output_type": "execute_result"
    }
   ],
   "source": [
    "count"
   ]
  },
  {
   "cell_type": "code",
   "execution_count": 166,
   "metadata": {},
   "outputs": [
    {
     "data": {
      "text/plain": [
       "<matplotlib.legend.Legend at 0x20649850a58>"
      ]
     },
     "execution_count": 166,
     "metadata": {},
     "output_type": "execute_result"
    },
    {
     "data": {
      "image/png": "[encoded data removed]",
      "text/plain": [
       "<Figure size 720x576 with 1 Axes>"
      ]
     },
     "metadata": {
      "needs_background": "light"
     },
     "output_type": "display_data"
    }
   ],
   "source": [
    "#plt.plot(M1.times[:-1], M1.trajectory[:-1,0], 'b-', label='S')\n",
    "fig, ax = plt.subplots(figsize=(10,8))\n",
    "plt.plot(M1.times[:-1], M1.trajectory[:-1,3], 'y-', label='Viral load')\n",
    "\n",
    "#plt.plot(M1.times[:-1], M1.trajectory[:-1,1], 'r-', label='Latent cells')\n",
    "#plt.plot(M1.times[:-1], M1.trajectory[:-1,2], 'g-', label='Infected cells')\n",
    "#plt.yscale(\"symlog\")\n",
    "plt.xlabel(\"Time\",fontsize=15)\n",
    "plt.ylabel(\"Viral Load\",fontsize=15)\n",
    "plt.legend(loc='upper right',fontsize=15)"
   ]
  },
  {
   "cell_type": "code",
   "execution_count": 167,
   "metadata": {},
   "outputs": [
    {
     "data": {
      "text/plain": [
       "Text(0, 0.5, 'Cell Count')"
      ]
     },
     "execution_count": 167,
     "metadata": {},
     "output_type": "execute_result"
    },
    {
     "data": {
      "image/png": "[encoded data removed]",
      "text/plain": [
       "<Figure size 720x576 with 1 Axes>"
      ]
     },
     "metadata": {
      "needs_background": "light"
     },
     "output_type": "display_data"
    }
   ],
   "source": [
    "fig, ax = plt.subplots(figsize=(10,8))\n",
    "plt.plot(M1.times[:-1], M1.trajectory[:-1,1], 'r-', label='Latent cells')\n",
    "plt.plot(M1.times[:-1], M1.trajectory[:-1,2], 'g-', label='Infected cells')\n",
    "plt.xlabel('time',fontsize=15)\n",
    "plt.ylabel('Cell count',fontsize=15)\n",
    "plt.legend(loc='upper right')\n",
    "\n",
    "\n",
    "#plt.yscale(\"symlog\")\n",
    "plt.xlabel(\"Time\",fontsize=15)\n",
    "plt.ylabel(\"Cell Count\",fontsize=15)"
   ]
  },
  {
   "cell_type": "code",
   "execution_count": 160,
   "metadata": {},
   "outputs": [
    {
     "data": {
      "text/plain": [
       "Text(0, 0.5, 'Virus Count')"
      ]
     },
     "execution_count": 160,
     "metadata": {},
     "output_type": "execute_result"
    },
    {
     "data": {
      "image/png": "[encoded data removed]",
      "text/plain": [
       "<Figure size 432x288 with 1 Axes>"
      ]
     },
     "metadata": {
      "needs_background": "light"
     },
     "output_type": "display_data"
    }
   ],
   "source": [
    "plt.plot(M1.times[:-1], M1.trajectory[:-1,3], 'y-', label='V')\n",
    "plt.legend(loc='upper right')\n",
    "plt.xlabel('time',fontsize=15)\n",
    "plt.ylabel('Virus Count',fontsize=15)"
   ]
  },
  {
   "cell_type": "code",
   "execution_count": null,
   "metadata": {},
   "outputs": [],
   "source": []
  }
 ],
 "metadata": {
  "kernelspec": {
   "display_name": "Python 3",
   "language": "python",
   "name": "python3"
  },
  "language_info": {
   "codemirror_mode": {
    "name": "ipython",
    "version": 3
   },
   "file_extension": ".py",
   "mimetype": "text/x-python",
   "name": "python",
   "nbconvert_exporter": "python",
   "pygments_lexer": "ipython3",
   "version": "3.6.10"
  }
 },
 "nbformat": 4,
 "nbformat_minor": 2
}
