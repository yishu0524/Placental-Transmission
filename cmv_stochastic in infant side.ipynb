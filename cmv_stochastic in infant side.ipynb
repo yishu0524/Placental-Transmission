{
 "cells": [
  {
   "cell_type": "code",
   "execution_count": 1,
   "metadata": {},
   "outputs": [],
   "source": [
    "import matplotlib.pyplot as plt"
   ]
  },
  {
   "cell_type": "code",
   "execution_count": 2,
   "metadata": {},
   "outputs": [],
   "source": [
    "# Module for simulating infectious disease dynamics with the CMV model\n",
    "\n",
    "import numpy as np, scipy.integrate, scipy.optimize, sys"
   ]
  },
  {
   "cell_type": "code",
   "execution_count": 3,
   "metadata": {},
   "outputs": [],
   "source": [
    "class CMVsystem:\n",
    "\n",
    "    def __init__(self, lam, mu, beta, alpha, delta,S0,p,c, S, L, I, V):\n",
    "        self.lam = lam\n",
    "        self.mu = mu\n",
    "        self.beta = beta\n",
    "        self.alpha = alpha\n",
    "        self.delta=delta\n",
    "        self.p = p\n",
    "        self.c = c\n",
    "        self.S0= S0\n",
    "        self.t = 0.\n",
    "        self.S = S\n",
    "        self.L = L\n",
    "        self.I = I\n",
    "        self.V = V\n",
    "        self.trajectory = np.array([[self.S, self.L, self.I,self.V]],dtype=float)\n",
    "        self.times = None\n",
    "#Define an initializer (__init__(self,beta,gamma,S,I,R)) which accepts model parameters beta and gamma, \n",
    "#and initial numbers of hosts in each of the S,I and R compartments.\n",
    "    def reset(self, S, I, L, V,t=0.):\n",
    "        self.t = t\n",
    "        self.S = S\n",
    "        self.L = L\n",
    "        self.I = I\n",
    "        self.V = V\n",
    "        self.trajectory = np.array([[self.S, self.L, self.I, self.V]],dtype=float)"
   ]
  },
  {
   "cell_type": "code",
   "execution_count": 4,
   "metadata": {},
   "outputs": [],
   "source": [
    "class DeterministicCMVsystem (CMVsystem):\n",
    "\n",
    "    \"\"\"Define a specialized subclass of the general SIRsystem for modeling SIR dynamics with a deterministic differential\n",
    "    equation model\"\"\"\n",
    "\n",
    "    def dydt(self, y, t):\n",
    "        \"\"\"Define the right-hand-side of the equation dy/dt = dydt(y,t) for use with odeint integrator;\n",
    "        note that because this is defined as a method on the class rather than as a free-standing function, the first\n",
    "        argument of the function must be the self instance rather than the current state vector y\"\"\"\n",
    "\n",
    "        S,L,I,V = y\n",
    "        dSdt = self.lam-self.mu*S-self.beta * S/self.S0 * V\n",
    "        dLdt = self.beta * S/self.S0 * V - self.alpha *L\n",
    "        dIdt = self.alpha *L-self.delta*I\n",
    "        dVdt = self.p*I-self.c*V\n",
    "        \n",
    "        #here is the ode system, and in terms of concentration!\n",
    "        return np.array([dSdt, dLdt, dIdt,dVdt])\n",
    "\n",
    "    def run(self, T, dt=None):\n",
    "        \"\"\"Integrate the ODE for the deterministic model from time 0 to time T, starting with the initial values stored\n",
    "        in the S,I,R state variables; story the result in self.trajectory\"\"\"\n",
    "\n",
    "        y0 = np.array([self.S, self.L, self.I,self.V], dtype=float)\n",
    "        if dt is None:\n",
    "            self.times = np.linspace(0.,T, int(T+1), endpoint=True)\n",
    "        else:\n",
    "            self.times = np.arange(0.,T, dt)\n",
    "        self.trajectory = scipy.integrate.odeint(self.dydt, y0, self.times)\n",
    "        #self.trajectory = np.concatenate((self.trajectory, traj), axis=0)"
   ]
  },
  {
   "cell_type": "code",
   "execution_count": 5,
   "metadata": {},
   "outputs": [
    {
     "data": {
      "text/plain": [
       "<matplotlib.legend.Legend at 0x2ae777ea668>"
      ]
     },
     "execution_count": 5,
     "metadata": {},
     "output_type": "execute_result"
    },
    {
     "data": {
      "image/png": "[encoded data removed]",
      "text/plain": [
       "<Figure size 432x288 with 1 Axes>"
      ]
     },
     "metadata": {
      "needs_background": "light"
     },
     "output_type": "display_data"
    }
   ],
   "source": [
    "mu=1/4.5; beta=0.0012; alpha=1; delta=0.77; S0=10;lam=mu*S0 ;p=1600;c=2; S=S0; L=0; I=0; V=200;\n",
    "dsird = DeterministicCMVsystem(lam, mu, beta, alpha, delta,S0,p,c, S, L, I, V)\n",
    "dsird.run(200, 0.01) #run the system for T=30 with time increment=0.1\n",
    "plt.plot(dsird.times, dsird.trajectory[:,0], 'b-', label='S')\n",
    "plt.plot(dsird.times, dsird.trajectory[:,1], 'r-', label='L')\n",
    "plt.plot(dsird.times, dsird.trajectory[:,2], 'g-', label='I')\n",
    "#plt.plot(dsird.times, dsird.trajectory[:,3], 'y-', label='V')\n",
    "plt.legend(loc='upper right')\n",
    "#plt.yscale(\"log\")"
   ]
  },
  {
   "cell_type": "code",
   "execution_count": 6,
   "metadata": {},
   "outputs": [
    {
     "data": {
      "text/plain": [
       "[<matplotlib.lines.Line2D at 0x2ae77887630>]"
      ]
     },
     "execution_count": 6,
     "metadata": {},
     "output_type": "execute_result"
    },
    {
     "data": {
      "image/png": "[encoded data removed]",
      "text/plain": [
       "<Figure size 432x288 with 1 Axes>"
      ]
     },
     "metadata": {
      "needs_background": "light"
     },
     "output_type": "display_data"
    }
   ],
   "source": [
    "plt.plot(dsird.times, dsird.trajectory[:,3], 'y-', label='V')"
   ]
  },
  {
   "cell_type": "markdown",
   "metadata": {},
   "source": [
    "for stochastic, we keep S constant"
   ]
  },
  {
   "cell_type": "code",
   "execution_count": 7,
   "metadata": {},
   "outputs": [],
   "source": [
    "class StochasticCMVsystem (CMVsystem):\n",
    "\n",
    "    \"\"\"Define a specialized subclass of the general SIRsystem for modeling SIR dynamics as a stochastic, continuous\n",
    "    time process, using the Gillespie method of continuous time Monte Carlo\"\"\"\n",
    "\n",
    "    def step(self,ratio):\n",
    "        \"\"\"Implement one step of Gillespie's Direct Method based on current reaction rates: identify a reaction to fire\n",
    "        next, as well as a time at which it will fire, and execute that reaction (similar to as was described in the\n",
    "        StochasticCells exercise).\"\"\"\n",
    "        s=np.random.uniform(0,1)\n",
    "        transition = None\n",
    "        S_birth=self.lam\n",
    "        S_death=self.mu*self.S\n",
    "        inf_rate=self.beta*self.V*self.S/self.S0\n",
    "        \n",
    "        L_to_I=self.alpha*self.I\n",
    "        \n",
    "        L_death=self.mu*self.L\n",
    "        I_death=self.delta*self.I\n",
    "        \n",
    "        V_production=self.p*self.I\n",
    "        \n",
    "        V_death=self.c*self.V\n",
    "        \n",
    "        \n",
    "        #S is kept constant\n",
    "        #CASE1:with latent cells\n",
    "        \n",
    "        if s>ratio:\n",
    "            rates=[inf_rate,L_to_I,L_death,I_death,V_production,V_death]\n",
    "            total_rate=np.sum(rates)\n",
    "\n",
    "\n",
    "            if total_rate == 0.:\n",
    "                return transition, self.t\n",
    "            if self.V==0:\n",
    "                return transition, self.t\n",
    "            if self.V==500:\n",
    "                return transition, self.t\n",
    "            ranno = np.random.random()\n",
    "            if ranno < np.sum(rates[0:1])/total_rate:\n",
    "                self.I += 1   #infected cell production\n",
    "                transition = 1\n",
    "            elif ranno < np.sum(rates[0:2])/total_rate:\n",
    "                self.I+=1     #Latent cell become infected\n",
    "                self.L-=1\n",
    "                transition = 2\n",
    "            elif ranno < np.sum(rates[0:3])/total_rate:\n",
    "                self.L-=1      #Latent Cell death\n",
    "                transition = 3\n",
    "            elif ranno < np.sum(rates[0:4])/total_rate:\n",
    "                self.I-=1      #Infected Cell death\n",
    "                transition = 4\n",
    "            elif ranno < np.sum(rates[0:5])/total_rate:\n",
    "                self.V+=1\n",
    "                transition = 5\n",
    "            elif ranno < np.sum(rates[0:6])/total_rate:\n",
    "                self.V-=1\n",
    "                transition = 6\n",
    "        \n",
    "        \n",
    "        #CASE2:no latent cells\n",
    "        else:\n",
    "            rates=[inf_rate,I_death,V_production,V_death]\n",
    "            total_rate=np.sum(rates)\n",
    "\n",
    "\n",
    "\n",
    "            if total_rate == 0.:\n",
    "                return transition, self.t\n",
    "            if self.V==0:\n",
    "                return transition, self.t\n",
    "            if self.V==500:\n",
    "                return transition, self.t\n",
    "            ranno = np.random.random()\n",
    "            if ranno < np.sum(rates[0:1])/total_rate:\n",
    "                self.I += 1\n",
    "                transition = 1\n",
    "\n",
    "            elif ranno < np.sum(rates[0:2])/total_rate:\n",
    "                self.I-=1\n",
    "                transition = 2\n",
    "            elif ranno < np.sum(rates[0:3])/total_rate:\n",
    "                self.V+=1\n",
    "                transition = 3\n",
    "            elif ranno < np.sum(rates[0:4])/total_rate:\n",
    "                self.V-=1\n",
    "                transition = 4\n",
    "                \n",
    "                \n",
    "                \n",
    "        dt = np.random.exponential(1./total_rate, 1)[0]\n",
    "        #why 1/the hazard function? different from the textbook\n",
    "        self.t += dt\n",
    "        return transition, self.t\n",
    "\n",
    "\n",
    "    def run(self, T=None, case=1, make_traj=True):\n",
    "        \"\"\"Run the Gillespie algorithm for stochastic simulation from time 0 to at least time T, starting with the initial\n",
    "        values stored in the S,I,R state variables; story the result in self.trajectory if make_traj argument is\n",
    "        set to True\"\"\"\n",
    "\n",
    "        if T is None:\n",
    "            T = sys.maxsize\n",
    "        self.times = [0.]\n",
    "        t0 = self.t\n",
    "        transition = 1\n",
    "        while self.t < t0 + T:\n",
    "            transition, t = self.step(case)\n",
    "            if not transition:\n",
    "                return self.t\n",
    "            if make_traj:\n",
    "                self.trajectory = np.concatenate((self.trajectory, [[self.S,self.L,self.I,self.V]]), axis=0)\n",
    "            self.times.append(self.t)\n",
    "        return self.t"
   ]
  },
  {
   "cell_type": "code",
   "execution_count": 8,
   "metadata": {},
   "outputs": [],
   "source": [
    "counter=0;\n",
    "timer_infected=[];\n",
    "timer_clear=[];\n"
   ]
  },
  {
   "cell_type": "code",
   "execution_count": 9,
   "metadata": {},
   "outputs": [],
   "source": [
    "max_iter=2000;"
   ]
  },
  {
   "cell_type": "code",
   "execution_count": 10,
   "metadata": {},
   "outputs": [],
   "source": [
    "s = np.random.poisson(331, max_iter)"
   ]
  },
  {
   "cell_type": "code",
   "execution_count": 11,
   "metadata": {},
   "outputs": [],
   "source": [
    "for j in range(max_iter):\n",
    "    infected=0;\n",
    "    for i in range(s[j]):\n",
    "        mu=1/4.5; beta=0.0012; alpha=1; delta=0.77; S0=400;lam=mu*S0 ;p=1600;c=2; S=S0; L=0; I=0; V=1;\n",
    "        M1 =StochasticCMVsystem(lam, mu, beta, alpha, delta, S0,p,c, S, L, I, V);\n",
    "        M1.run(3,0.5)\n",
    "        if M1.trajectory[-1,3]>0:\n",
    "            infected=1;\n",
    "            timer_infected.append(M1.t)\n",
    "        else:\n",
    "            timer_clear.append(M1.t)\n",
    "        if infected==1:\n",
    "            break;\n",
    "    if infected==1:\n",
    "        counter+=1;"
   ]
  },
  {
   "cell_type": "code",
   "execution_count": 12,
   "metadata": {},
   "outputs": [
    {
     "data": {
      "text/plain": [
       "328"
      ]
     },
     "execution_count": 12,
     "metadata": {},
     "output_type": "execute_result"
    }
   ],
   "source": [
    "counter"
   ]
  },
  {
   "cell_type": "code",
   "execution_count": 18,
   "metadata": {},
   "outputs": [
    {
     "data": {
      "text/plain": [
       "0.2385"
      ]
     },
     "execution_count": 18,
     "metadata": {},
     "output_type": "execute_result"
    }
   ],
   "source": [
    "counter/max_iter"
   ]
  },
  {
   "cell_type": "code",
   "execution_count": 116,
   "metadata": {},
   "outputs": [],
   "source": [
    "s = np.random.poisson(339.985, 100)"
   ]
  },
  {
   "cell_type": "code",
   "execution_count": 117,
   "metadata": {},
   "outputs": [
    {
     "data": {
      "text/plain": [
       "1.2297495182364817"
      ]
     },
     "execution_count": 117,
     "metadata": {},
     "output_type": "execute_result"
    }
   ],
   "source": [
    "np.mean(timer_infected)"
   ]
  },
  {
   "cell_type": "code",
   "execution_count": 118,
   "metadata": {},
   "outputs": [
    {
     "data": {
      "text/plain": [
       "0.499976801493222"
      ]
     },
     "execution_count": 118,
     "metadata": {},
     "output_type": "execute_result"
    }
   ],
   "source": [
    "np.mean(timer_clear)"
   ]
  },
  {
   "cell_type": "code",
   "execution_count": 119,
   "metadata": {},
   "outputs": [
    {
     "data": {
      "text/plain": [
       "Text(0.5, 1.0, 'Histogram of days to develop infection')"
      ]
     },
     "execution_count": 119,
     "metadata": {},
     "output_type": "execute_result"
    },
    {
     "data": {
      "image/png": "[encoded data removed]",
      "text/plain": [
       "<Figure size 432x288 with 1 Axes>"
      ]
     },
     "metadata": {
      "needs_background": "light"
     },
     "output_type": "display_data"
    }
   ],
   "source": [
    "plt.hist(timer_infected)\n",
    "plt.xlabel(\"Days it takes for virus count to reach 500\")\n",
    "plt.ylabel(\"Count\")\n",
    "plt.title(\"Histogram of days to develop infection\")"
   ]
  },
  {
   "cell_type": "code",
   "execution_count": 120,
   "metadata": {},
   "outputs": [
    {
     "data": {
      "text/plain": [
       "Text(0.5, 1.0, 'Histogram of days to clear all virus')"
      ]
     },
     "execution_count": 120,
     "metadata": {},
     "output_type": "execute_result"
    },
    {
     "data": {
      "image/png": "[encoded data removed]",
      "text/plain": [
       "<Figure size 432x288 with 1 Axes>"
      ]
     },
     "metadata": {
      "needs_background": "light"
     },
     "output_type": "display_data"
    }
   ],
   "source": [
    "plt.hist(timer_clear)\n",
    "plt.xlabel(\"Days it takes for virus to be cleared\")\n",
    "plt.ylabel(\"Count\")\n",
    "plt.title(\"Histogram of days to clear all virus\")"
   ]
  }
 ],
 "metadata": {
  "kernelspec": {
   "display_name": "Python 3",
   "language": "python",
   "name": "python3"
  },
  "language_info": {
   "codemirror_mode": {
    "name": "ipython",
    "version": 3
   },
   "file_extension": ".py",
   "mimetype": "text/x-python",
   "name": "python",
   "nbconvert_exporter": "python",
   "pygments_lexer": "ipython3",
   "version": "3.7.3"
  }
 },
 "nbformat": 4,
 "nbformat_minor": 2
}
